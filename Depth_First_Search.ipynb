{
  "nbformat": 4,
  "nbformat_minor": 0,
  "metadata": {
    "colab": {
      "name": "Depth First Search.ipynb",
      "version": "0.3.2",
      "provenance": [],
      "collapsed_sections": []
    }
  },
  "cells": [
    {
      "metadata": {
        "id": "mRxybPHTKgt6",
        "colab_type": "code",
        "colab": {}
      },
      "cell_type": "code",
      "source": [
        "adjacency_list = {}\n",
        "import numpy as np\n",
        "import random"
      ],
      "execution_count": 0,
      "outputs": []
    },
    {
      "metadata": {
        "id": "Cs62rqaGK0co",
        "colab_type": "code",
        "colab": {}
      },
      "cell_type": "code",
      "source": [
        "adjacency_list = {'A' : ['F','D'], 'B':['F','G','E'], 'C':['F','D','E'], 'D':['A','C','E'], 'E':['D','C','B','G'], 'F':['A','C','B','G'], 'G':['F','B','E']}"
      ],
      "execution_count": 0,
      "outputs": []
    },
    {
      "metadata": {
        "id": "5obGyUfyoC_y",
        "colab_type": "code",
        "colab": {}
      },
      "cell_type": "code",
      "source": [
        "tree = {'A' : ['B','C','D','E','F'], 'B':['A'], 'C':['G','H','A'], 'D':['A','I','J'], 'E':['A'], 'F':['A','K','L'], 'G':['C'], 'H':['C'], 'I':['D','M','N'], 'J':['D'], 'K':['F'], 'L':['F','O','P'], 'M':['I'], 'N':['I','Q','R'], 'O':['L'], 'P':['L'], 'Q':['N'], 'R':['N']}"
      ],
      "execution_count": 0,
      "outputs": []
    },
    {
      "metadata": {
        "id": "p9ZhhL2Up3Oz",
        "colab_type": "code",
        "colab": {}
      },
      "cell_type": "code",
      "source": [
        "tree_mod = {'A' : ['B','C','D','E','F'], 'B':['A'], 'C':['G','H','A'], 'D':['A','I','J'], 'E':['A','J'], 'F':['A','K','L'], 'G':['C','Q'], 'H':['C','M'], 'I':['D','M','N'], 'J':['D','E'], 'K':['F','R'], 'L':['F','O','P'], 'M':['I','H'], 'N':['I','Q','R'], 'O':['L'], 'P':['L'], 'Q':['N','G'], 'R':['N','K']}"
      ],
      "execution_count": 0,
      "outputs": []
    },
    {
      "metadata": {
        "id": "8Z6GQCTSXoY9",
        "colab_type": "code",
        "colab": {}
      },
      "cell_type": "code",
      "source": [
        "dir_graph = {'A' : ['B','D'], 'B':['C'], 'C':['E'], 'D':['E'], 'E':['A']}"
      ],
      "execution_count": 0,
      "outputs": []
    },
    {
      "metadata": {
        "id": "BfDPLBRPXuaw",
        "colab_type": "code",
        "colab": {}
      },
      "cell_type": "code",
      "source": [
        "def DFS(graph,u='NA',v='NA'):\n",
        "  \n",
        "  \n",
        "  \n",
        "  \n",
        "  ############# Inner Encapsulated Function ############################## \n",
        "  def stack(action = 'none',element = '1',stack1=[], disp = 'no'): \n",
        "    ind = len(stack1)\n",
        "    if action == 'push' and element != '1':\n",
        "      stack1.append(element)\n",
        "      #print(stack1)\n",
        "      return stack1\n",
        "    if action == 'pop' and element == '1' and ind != 0:\n",
        "      r = stack1[ind-2]\n",
        "      stack1 = stack1.pop(int(ind-1))\n",
        "      return r\n",
        "    if action == 'pop' and ind == 0:\n",
        "      print(\"Stack is Empty!\")\n",
        "      return stack1\n",
        "    if action == 'none' and element == '1' and disp == 'Y' or disp == 'y':\n",
        "      print(stack1)\n",
        "  #######################################################################    \n",
        "  \n",
        "  \n",
        "  element_list = graph.keys()\n",
        "  bool_list = {}\n",
        "  for vertex in graph:\n",
        "    bool_list[vertex] = 0\n",
        "  #print(bool_list)\n",
        "  current = u\n",
        "  sta = stack(action = 'push',element = str(u))\n",
        "  bool_list[current] = 1\n",
        "  #print(sta)\n",
        "  sig = 1\n",
        "  flag = 1\n",
        "  loop = 0\n",
        "  while(flag):\n",
        "    sig = 1\n",
        "    loop +=1\n",
        "    m = len(graph[current])\n",
        "    rand_ind = random.randint(0,m-1)\n",
        "    tentative = graph[current][rand_ind]\n",
        "    if bool_list[tentative] == 0 and tentative == v and flag == 1:\n",
        "      current = tentative\n",
        "      bool_list[current] = 1\n",
        "      stack('push',current)\n",
        "      stack(disp = 'y')\n",
        "      #print(\"1\")\n",
        "      #print(\"Loop: \"+str(loop))\n",
        "      m = len(graph[current])\n",
        "      flag = 0\n",
        "      sig = 0\n",
        "      break  \n",
        "    if bool_list[tentative] == 0 and tentative != v and flag == 1:\n",
        "      current = tentative\n",
        "      bool_list[current] = 1\n",
        "      stack('push',current)\n",
        "      #stack(disp = 'y')\n",
        "      #print(\"2\")\n",
        "      sig = 0\n",
        "      #print(\"Loop: \"+str(loop))\n",
        "      m = len(graph[current])\n",
        "    sigma = 0  \n",
        "\n",
        "    for i in range(0,m):\n",
        "      tentative = graph[current][i]\n",
        "      if bool_list[tentative] == 0:\n",
        "        sigma = sigma +1\n",
        "\n",
        "    if sigma == 0 and flag == 1 and sig == 1:\n",
        "      st = stack('pop')\n",
        "      top = st\n",
        "      current = top\n",
        "      #stack(disp = 'y')\n",
        "        "
      ],
      "execution_count": 0,
      "outputs": []
    },
    {
      "metadata": {
        "id": "uYo6KF-hg6jR",
        "colab_type": "code",
        "colab": {
          "base_uri": "https://localhost:8080/",
          "height": 34
        },
        "outputId": "583db392-3210-40da-fdc1-272e8668def6"
      },
      "cell_type": "code",
      "source": [
        "DFS(adjacency_list,'G','C')"
      ],
      "execution_count": 320,
      "outputs": [
        {
          "output_type": "stream",
          "text": [
            "['G', 'F', 'A', 'D', 'C']\n"
          ],
          "name": "stdout"
        }
      ]
    },
    {
      "metadata": {
        "id": "sRYoJC7Hk3Vp",
        "colab_type": "code",
        "colab": {
          "base_uri": "https://localhost:8080/",
          "height": 34
        },
        "outputId": "0eaccf4b-c4ea-4e27-dc01-658406d2a7b7"
      },
      "cell_type": "code",
      "source": [
        "DFS(tree,'P','Q')"
      ],
      "execution_count": 332,
      "outputs": [
        {
          "output_type": "stream",
          "text": [
            "['P', 'L', 'F', 'A', 'D', 'I', 'N', 'Q']\n"
          ],
          "name": "stdout"
        }
      ]
    },
    {
      "metadata": {
        "id": "ie-Rl6M1lFsq",
        "colab_type": "code",
        "colab": {
          "base_uri": "https://localhost:8080/",
          "height": 34
        },
        "outputId": "f8eadb50-0ed9-41f9-c171-a85043f08400"
      },
      "cell_type": "code",
      "source": [
        "DFS(tree_mod,'O','R')"
      ],
      "execution_count": 335,
      "outputs": [
        {
          "output_type": "stream",
          "text": [
            "['O', 'L', 'F', 'A', 'C', 'G', 'Q', 'N', 'R']\n"
          ],
          "name": "stdout"
        }
      ]
    },
    {
      "metadata": {
        "id": "qvu83Og7zK8k",
        "colab_type": "code",
        "colab": {
          "base_uri": "https://localhost:8080/",
          "height": 34
        },
        "outputId": "40edfa96-9430-4d7f-ce40-73c5e6f077a3"
      },
      "cell_type": "code",
      "source": [
        "DFS(dir_graph,'D','B')"
      ],
      "execution_count": 9,
      "outputs": [
        {
          "output_type": "stream",
          "text": [
            "['D', 'E', 'A', 'B']\n"
          ],
          "name": "stdout"
        }
      ]
    },
    {
      "metadata": {
        "id": "lyVA4Z5Qma7B",
        "colab_type": "code",
        "colab": {}
      },
      "cell_type": "code",
      "source": [
        "import networkx as nx"
      ],
      "execution_count": 0,
      "outputs": []
    },
    {
      "metadata": {
        "id": "ennulpn5eIr8",
        "colab_type": "code",
        "colab": {}
      },
      "cell_type": "code",
      "source": [
        ""
      ],
      "execution_count": 0,
      "outputs": []
    }
  ]
}